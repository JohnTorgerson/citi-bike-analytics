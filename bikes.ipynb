{
 "cells": [
  {
   "cell_type": "code",
   "execution_count": null,
   "id": "96148b96",
   "metadata": {},
   "outputs": [],
   "source": [
    "# Dependencies and Setup\n",
    "import pandas as pd"
   ]
  },
  {
   "cell_type": "code",
   "execution_count": null,
   "id": "79805472",
   "metadata": {},
   "outputs": [],
   "source": [
    "# Define filepaths for 3 files to load \n",
    "march_df = \"Resources/JC-202203-citibike-tripdata.csv\"\n",
    "june_df = \"Resources/JC-202206-citibike-tripdata.csv\"\n",
    "september_df = \"Resources/JC-202209-citibike-tripdata.csv\""
   ]
  },
  {
   "cell_type": "code",
   "execution_count": null,
   "id": "9f9f2a26",
   "metadata": {},
   "outputs": [],
   "source": [
    "# Read Spring, Summer, and Fall files into dataframes\n",
    "march_df = pd.read_csv(march_df)\n",
    "june_df = pd.read_csv(june_df)\n",
    "september_df = pd.read_csv(september_df)"
   ]
  },
  {
   "cell_type": "code",
   "execution_count": null,
   "id": "f5336fb8",
   "metadata": {},
   "outputs": [],
   "source": [
    "june_df.head(10)"
   ]
  },
  {
   "cell_type": "code",
   "execution_count": null,
   "id": "0349ae68",
   "metadata": {},
   "outputs": [],
   "source": [
    "# Concatonate 3 dataframes into one\n",
    "frames = [march_df, june_df, september_df]\n",
    "bikes_df = pd.concat(frames)\n",
    "bikes_df"
   ]
  },
  {
   "cell_type": "code",
   "execution_count": null,
   "id": "4796c710",
   "metadata": {},
   "outputs": [],
   "source": [
    "bikes_df.to_csv('Resources/JerseyCitiBike.csv', index = False)"
   ]
  },
  {
   "cell_type": "code",
   "execution_count": null,
   "id": "27497058",
   "metadata": {},
   "outputs": [],
   "source": []
  }
 ],
 "metadata": {
  "kernelspec": {
   "display_name": "Python 3 (ipykernel)",
   "language": "python",
   "name": "python3"
  },
  "language_info": {
   "codemirror_mode": {
    "name": "ipython",
    "version": 3
   },
   "file_extension": ".py",
   "mimetype": "text/x-python",
   "name": "python",
   "nbconvert_exporter": "python",
   "pygments_lexer": "ipython3",
   "version": "3.8.13"
  }
 },
 "nbformat": 4,
 "nbformat_minor": 5
}
